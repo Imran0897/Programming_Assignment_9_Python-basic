{
 "cells": [
  {
   "cell_type": "code",
   "execution_count": 67,
   "id": "c6744daf",
   "metadata": {},
   "outputs": [],
   "source": [
    "#1.\n",
    "\n",
    "def is_disarium(x):\n",
    "    m = str(x)\n",
    "    n = len(m)\n",
    "    sum = 0\n",
    "    for i in range(0,n):\n",
    "        sum = sum + (int(m[i]))**(i+1)\n",
    "    if sum == x:\n",
    "        print(\"number is disarium\")\n",
    "        \n",
    "    else:\n",
    "        print(\"its not disarium number\")"
   ]
  },
  {
   "cell_type": "code",
   "execution_count": 73,
   "id": "777d1298",
   "metadata": {},
   "outputs": [
    {
     "name": "stdout",
     "output_type": "stream",
     "text": [
      "0\n",
      "1\n",
      "2\n",
      "3\n",
      "4\n",
      "5\n",
      "6\n",
      "7\n",
      "8\n",
      "9\n",
      "89\n"
     ]
    }
   ],
   "source": [
    "#2.\n",
    "\n",
    "\n",
    "for x in range(100):\n",
    "    \n",
    "    m = str(x)\n",
    "    n = len(m)\n",
    "    sum = 0\n",
    "    for i in range(0,n):\n",
    "        sum = sum + (int(m[i]))**(i+1)\n",
    "    if sum == x:\n",
    "        print(x)\n",
    "        \n",
    "    else:\n",
    "        pass"
   ]
  },
  {
   "cell_type": "code",
   "execution_count": 1,
   "id": "85729d90",
   "metadata": {},
   "outputs": [],
   "source": [
    "#3.\n",
    "\n",
    "def is_happy_number(x):\n",
    "    while x >=1:\n",
    "        k = str(x)\n",
    "        m = len(k)\n",
    "        sum = 0\n",
    "        for i in range(m):       \n",
    "            sum = sum + (int(k[i]))**m\n",
    "            x = sum\n",
    "        if sum == 1 :\n",
    "            print(\"this is a happy number\")\n",
    "            break\n",
    "        elif sum < 1:\n",
    "            break"
   ]
  },
  {
   "cell_type": "code",
   "execution_count": null,
   "id": "290fa0c9",
   "metadata": {},
   "outputs": [
    {
     "name": "stdout",
     "output_type": "stream",
     "text": [
      "0 is a happy number\n"
     ]
    }
   ],
   "source": [
    "#4.\n",
    "\n",
    "h= 100\n",
    "for x in range(h):\n",
    "    while x >=1:\n",
    "        k = str(x)\n",
    "        m = len(k)\n",
    "        sum = 0\n",
    "        for i in range(m):       \n",
    "            sum = sum + (int(k[i]))**m\n",
    "            x = sum\n",
    "        if sum == 1 :\n",
    "            print(i ,\"is a happy number\")\n",
    "            break\n",
    "        elif sum < 1:\n",
    "            break"
   ]
  },
  {
   "cell_type": "code",
   "execution_count": 1,
   "id": "62156e36",
   "metadata": {},
   "outputs": [],
   "source": [
    "#5.\n",
    "\n",
    "def check_harshad_num(x):\n",
    "    k = str(x)\n",
    "    sum = 0\n",
    "    for i in range(len(k)):\n",
    "        sum = sum +int(k[i])\n",
    "    if x% sum ==0:\n",
    "        return \"this is a harshad number\"\n",
    "    else:\n",
    "        return \"no, its nit a harshad number\""
   ]
  },
  {
   "cell_type": "code",
   "execution_count": 8,
   "id": "60a9f8f2",
   "metadata": {},
   "outputs": [
    {
     "name": "stdout",
     "output_type": "stream",
     "text": [
      "0\n",
      "2\n",
      "6\n",
      "12\n",
      "20\n",
      "30\n",
      "42\n",
      "56\n",
      "72\n",
      "90\n"
     ]
    }
   ],
   "source": [
    "#5.\n",
    "\n",
    "for i in range(n):\n",
    "    c = i*(i+1)\n",
    "    if c < 100:\n",
    "        print(c)"
   ]
  },
  {
   "cell_type": "code",
   "execution_count": null,
   "id": "c71cf83f",
   "metadata": {},
   "outputs": [],
   "source": []
  }
 ],
 "metadata": {
  "kernelspec": {
   "display_name": "Python 3 (ipykernel)",
   "language": "python",
   "name": "python3"
  },
  "language_info": {
   "codemirror_mode": {
    "name": "ipython",
    "version": 3
   },
   "file_extension": ".py",
   "mimetype": "text/x-python",
   "name": "python",
   "nbconvert_exporter": "python",
   "pygments_lexer": "ipython3",
   "version": "3.9.7"
  }
 },
 "nbformat": 4,
 "nbformat_minor": 5
}
